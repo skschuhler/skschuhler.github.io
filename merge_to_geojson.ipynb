{
 "cells": [
  {
   "cell_type": "code",
   "execution_count": 4,
   "metadata": {},
   "outputs": [],
   "source": [
    "import csv\n",
    "import json\n",
    "\n",
    "# Read CSV file\n",
    "csv_file = 'chicago neighborhoods.csv'  \n",
    "json_file = 'neighborhood_data.json'\n",
    "\n",
    "data = []\n",
    "\n",
    "with open(csv_file, mode='r') as file:\n",
    "    csv_reader = csv.DictReader(file)\n",
    "    for row in csv_reader:\n",
    "        data.append({\n",
    "            \"neighborhood\": row[\"Neighborhood\"],\n",
    "            \"community_area\": row[\"Community Area\"],\n",
    "            \"region\": row[\"Region\"]\n",
    "        })\n",
    "\n",
    "# Write to JSON file\n",
    "with open(json_file, mode='w') as file:\n",
    "    json.dump(data, file, indent=4)\n"
   ]
  },
  {
   "cell_type": "code",
   "execution_count": 6,
   "metadata": {},
   "outputs": [],
   "source": [
    "# Load GeoJSON file\n",
    "with open('Boundaries - Neighborhoods.geojson', 'r') as geojson_file:\n",
    "    geojson_data = json.load(geojson_file)\n",
    "\n",
    "# Load Neighborhood Data from the CSV-to-JSON conversion\n",
    "with open('neighborhood_data.json', 'r') as csv_json_file:\n",
    "    neighborhood_data = json.load(csv_json_file)\n",
    "\n",
    "# Create a dictionary for fast lookup using the 'neigh' as the key\n",
    "neighborhood_dict = {n['neighborhood']: n for n in neighborhood_data}\n",
    "\n",
    "# Update the GeoJSON properties\n",
    "for feature in geojson_data['features']:\n",
    "    pri_neigh = feature['properties'].get('pri_neigh')\n",
    "\n",
    "    # Check if the neighborhood exists in our CSV data\n",
    "    if pri_neigh in neighborhood_dict:\n",
    "        feature['properties']['neighborhood'] = neighborhood_dict[pri_neigh]['neighborhood']\n",
    "        feature['properties']['community_area'] = neighborhood_dict[pri_neigh]['community_area']\n",
    "        feature['properties']['region'] = neighborhood_dict[pri_neigh]['region']\n",
    "\n",
    "# Save the updated GeoJSON\n",
    "with open('Updated_Boundaries_Neighborhoods.geojson', 'w') as output_file:\n",
    "    json.dump(geojson_data, output_file, indent=4)\n"
   ]
  },
  {
   "cell_type": "code",
   "execution_count": null,
   "metadata": {},
   "outputs": [],
   "source": []
  }
 ],
 "metadata": {
  "kernelspec": {
   "display_name": "Python 3",
   "language": "python",
   "name": "python3"
  },
  "language_info": {
   "codemirror_mode": {
    "name": "ipython",
    "version": 3
   },
   "file_extension": ".py",
   "mimetype": "text/x-python",
   "name": "python",
   "nbconvert_exporter": "python",
   "pygments_lexer": "ipython3",
   "version": "3.11.5"
  }
 },
 "nbformat": 4,
 "nbformat_minor": 2
}
